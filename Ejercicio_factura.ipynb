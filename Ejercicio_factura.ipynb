{
  "nbformat": 4,
  "nbformat_minor": 0,
  "metadata": {
    "colab": {
      "provenance": [],
      "authorship_tag": "ABX9TyPUnCNjdCSK0FyskAzM/A1B",
      "include_colab_link": true
    },
    "kernelspec": {
      "name": "python3",
      "display_name": "Python 3"
    },
    "language_info": {
      "name": "python"
    }
  },
  "cells": [
    {
      "cell_type": "markdown",
      "metadata": {
        "id": "view-in-github",
        "colab_type": "text"
      },
      "source": [
        "<a href=\"https://colab.research.google.com/github/SaFong490/Ejercicio_factura_Samuel_Fong/blob/main/Ejercicio_factura.ipynb\" target=\"_parent\"><img src=\"https://colab.research.google.com/assets/colab-badge.svg\" alt=\"Open In Colab\"/></a>"
      ]
    },
    {
      "cell_type": "code",
      "source": [
        "# Entradas\n",
        "# Height avobe mean sea level\n",
        "hamsl = 1500\n",
        "# Estrato\n",
        "s = 3\n",
        "# Consumo en kWh\n",
        "c = 200\n",
        "# Costo unitario\n",
        "cu = 500\n",
        "\n",
        "# Constantes\n",
        "# Consumo básico\n",
        "if hamsl > 1000: \n",
        "  c_base = 130\n",
        "else:\n",
        "  c_base = 173\n",
        "\n",
        "# Subsidio\n",
        "if s == 1:\n",
        "  subs = -0.6\n",
        "elif s == 2:\n",
        "  subs = -0.5\n",
        "elif s == 3:\n",
        "  subs = -0.15\n",
        "elif s == 4:\n",
        "  subs = 0\n",
        "else:\n",
        "  # Estratos 5 o 6 y Comerciales \n",
        "  subsidio = 0.2\n",
        "\n",
        "print(\"Consumo básico: \")\n",
        "print(c_base, \"kWh\")\n",
        "print(\"Subsidio: \")\n",
        "print(subs*100, \"%\")\n",
        "\n",
        "if c <= c_base:\n",
        "  total = c * cu * (1+subs)\n",
        "else:\n",
        "  total = c_base * cu * (1+subs) + (c - c_base) * cu\n",
        "\n",
        "print(\"Total factura: \")\n",
        "print(\"$\", total, \"COP\")"
      ],
      "metadata": {
        "colab": {
          "base_uri": "https://localhost:8080/"
        },
        "id": "sbZndieUqzno",
        "outputId": "d4d73b52-8cf1-41cf-d1b8-68e12757c5c6"
      },
      "execution_count": 9,
      "outputs": [
        {
          "output_type": "stream",
          "name": "stdout",
          "text": [
            "Consumo básico: \n",
            "130 kWh\n",
            "Subsidio: \n",
            "-15.0 %\n",
            "Total factura: \n",
            "$ 90250.0 COP\n"
          ]
        }
      ]
    },
    {
      "cell_type": "code",
      "source": [],
      "metadata": {
        "id": "5mz8JVnb57-m"
      },
      "execution_count": null,
      "outputs": []
    }
  ]
}